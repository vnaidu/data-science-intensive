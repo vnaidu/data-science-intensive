{
  "cells": [
    {
      "cell_type": "markdown",
      "source": [
        "# Examining Racial Discrimination in the US Job Market\n",
        "\n",
        "### Background\n",
        "Racial discrimination continues to be pervasive in cultures throughout the world. Researchers examined the level of racial discrimination in the United States labor market by randomly assigning identical résumés to black-sounding or white-sounding names and observing the impact on requests for interviews from employers.\n",
        "\n",
        "### Data\n",
        "In the dataset provided, each row represents a resume. The 'race' column has two values, 'b' and 'w', indicating black-sounding and white-sounding. The column 'call' has two values, 1 and 0, indicating whether the resume received a call from employers or not.\n",
        "\nNote that the 'b' and 'w' values in race are assigned randomly to the resumes when presented to the employer."
      ],
      "metadata": {}
    },
    {
      "cell_type": "markdown",
      "source": [
        "### Exercises\n",
        "You will perform a statistical analysis to establish whether race has a significant impact on the rate of callbacks for resumes.\n",
        "\n",
        "Answer the following questions **in this notebook below and submit to your Github account**. \n",
        "\n",
        "   1. What test is appropriate for this problem? Does CLT apply?\n",
        "   2. What are the null and alternate hypotheses?\n",
        "   3. Compute margin of error, confidence interval, and p-value.\n",
        "   4. Write a story describing the statistical significance in the context or the original problem.\n",
        "   5. Does your analysis mean that race/name is the most important factor in callback success? Why or why not? If not, how would you amend your analysis?\n",
        "\n",
        "You can include written notes in notebook cells using Markdown: \n",
        "   - In the control panel at the top, choose Cell > Cell Type > Markdown\n",
        "   - Markdown syntax: http://nestacms.com/docs/creating-content/markdown-cheat-sheet\n",
        "\n\n",
        "#### Resources\n",
        "+ Experiment information and data source: http://www.povertyactionlab.org/evaluation/discrimination-job-market-united-states\n",
        "+ Scipy statistical methods: http://docs.scipy.org/doc/scipy/reference/stats.html \n",
        "+ Markdown syntax: http://nestacms.com/docs/creating-content/markdown-cheat-sheet\n",
        "****"
      ],
      "metadata": {}
    },
    {
      "cell_type": "code",
      "source": [
        "import pandas as pd\n",
        "import numpy as np\n",
        "from scipy import stats"
      ],
      "outputs": [],
      "execution_count": 1,
      "metadata": {
        "collapsed": true
      }
    },
    {
      "cell_type": "code",
      "source": [
        "data = pd.io.stata.read_stata('data/us_job_market_discrimination.dta')"
      ],
      "outputs": [],
      "execution_count": 2,
      "metadata": {
        "collapsed": false
      }
    },
    {
      "cell_type": "code",
      "source": [
        "# number of callbacks for black-sounding names\n",
        "sum(data[data.race=='b'].call)"
      ],
      "outputs": [
        {
          "output_type": "execute_result",
          "execution_count": 3,
          "data": {
            "text/plain": [
              "157.0"
            ]
          },
          "metadata": {}
        }
      ],
      "execution_count": 3,
      "metadata": {
        "collapsed": false
      }
    },
    {
      "cell_type": "code",
      "source": [
        "data.head()"
      ],
      "outputs": [
        {
          "output_type": "execute_result",
          "execution_count": 4,
          "data": {
            "text/plain": [
              "  id ad  education  ofjobs  yearsexp  honors  volunteer  military  empholes  \\\n",
              "0  b  1          4       2         6       0          0         0         1   \n",
              "1  b  1          3       3         6       0          1         1         0   \n",
              "2  b  1          4       1         6       0          0         0         0   \n",
              "3  b  1          3       4         6       0          1         0         1   \n",
              "4  b  1          3       3        22       0          0         0         0   \n",
              "\n",
              "   occupspecific    ...      compreq  orgreq  manuf  transcom  bankreal trade  \\\n",
              "0             17    ...          1.0     0.0    1.0       0.0       0.0   0.0   \n",
              "1            316    ...          1.0     0.0    1.0       0.0       0.0   0.0   \n",
              "2             19    ...          1.0     0.0    1.0       0.0       0.0   0.0   \n",
              "3            313    ...          1.0     0.0    1.0       0.0       0.0   0.0   \n",
              "4            313    ...          1.0     1.0    0.0       0.0       0.0   0.0   \n",
              "\n",
              "  busservice othservice  missind  ownership  \n",
              "0        0.0        0.0      0.0             \n",
              "1        0.0        0.0      0.0             \n",
              "2        0.0        0.0      0.0             \n",
              "3        0.0        0.0      0.0             \n",
              "4        0.0        1.0      0.0  Nonprofit  \n",
              "\n[5 rows x 65 columns]"
            ],
            "text/html": [
              "<div>\n",
              "<style>\n",
              "    .dataframe thead tr:only-child th {\n",
              "        text-align: right;\n",
              "    }\n",
              "\n",
              "    .dataframe thead th {\n",
              "        text-align: left;\n",
              "    }\n",
              "\n",
              "    .dataframe tbody tr th {\n",
              "        vertical-align: top;\n",
              "    }\n",
              "</style>\n",
              "<table border=\"1\" class=\"dataframe\">\n",
              "  <thead>\n",
              "    <tr style=\"text-align: right;\">\n",
              "      <th></th>\n",
              "      <th>id</th>\n",
              "      <th>ad</th>\n",
              "      <th>education</th>\n",
              "      <th>ofjobs</th>\n",
              "      <th>yearsexp</th>\n",
              "      <th>honors</th>\n",
              "      <th>volunteer</th>\n",
              "      <th>military</th>\n",
              "      <th>empholes</th>\n",
              "      <th>occupspecific</th>\n",
              "      <th>...</th>\n",
              "      <th>compreq</th>\n",
              "      <th>orgreq</th>\n",
              "      <th>manuf</th>\n",
              "      <th>transcom</th>\n",
              "      <th>bankreal</th>\n",
              "      <th>trade</th>\n",
              "      <th>busservice</th>\n",
              "      <th>othservice</th>\n",
              "      <th>missind</th>\n",
              "      <th>ownership</th>\n",
              "    </tr>\n",
              "  </thead>\n",
              "  <tbody>\n",
              "    <tr>\n",
              "      <th>0</th>\n",
              "      <td>b</td>\n",
              "      <td>1</td>\n",
              "      <td>4</td>\n",
              "      <td>2</td>\n",
              "      <td>6</td>\n",
              "      <td>0</td>\n",
              "      <td>0</td>\n",
              "      <td>0</td>\n",
              "      <td>1</td>\n",
              "      <td>17</td>\n",
              "      <td>...</td>\n",
              "      <td>1.0</td>\n",
              "      <td>0.0</td>\n",
              "      <td>1.0</td>\n",
              "      <td>0.0</td>\n",
              "      <td>0.0</td>\n",
              "      <td>0.0</td>\n",
              "      <td>0.0</td>\n",
              "      <td>0.0</td>\n",
              "      <td>0.0</td>\n",
              "      <td></td>\n",
              "    </tr>\n",
              "    <tr>\n",
              "      <th>1</th>\n",
              "      <td>b</td>\n",
              "      <td>1</td>\n",
              "      <td>3</td>\n",
              "      <td>3</td>\n",
              "      <td>6</td>\n",
              "      <td>0</td>\n",
              "      <td>1</td>\n",
              "      <td>1</td>\n",
              "      <td>0</td>\n",
              "      <td>316</td>\n",
              "      <td>...</td>\n",
              "      <td>1.0</td>\n",
              "      <td>0.0</td>\n",
              "      <td>1.0</td>\n",
              "      <td>0.0</td>\n",
              "      <td>0.0</td>\n",
              "      <td>0.0</td>\n",
              "      <td>0.0</td>\n",
              "      <td>0.0</td>\n",
              "      <td>0.0</td>\n",
              "      <td></td>\n",
              "    </tr>\n",
              "    <tr>\n",
              "      <th>2</th>\n",
              "      <td>b</td>\n",
              "      <td>1</td>\n",
              "      <td>4</td>\n",
              "      <td>1</td>\n",
              "      <td>6</td>\n",
              "      <td>0</td>\n",
              "      <td>0</td>\n",
              "      <td>0</td>\n",
              "      <td>0</td>\n",
              "      <td>19</td>\n",
              "      <td>...</td>\n",
              "      <td>1.0</td>\n",
              "      <td>0.0</td>\n",
              "      <td>1.0</td>\n",
              "      <td>0.0</td>\n",
              "      <td>0.0</td>\n",
              "      <td>0.0</td>\n",
              "      <td>0.0</td>\n",
              "      <td>0.0</td>\n",
              "      <td>0.0</td>\n",
              "      <td></td>\n",
              "    </tr>\n",
              "    <tr>\n",
              "      <th>3</th>\n",
              "      <td>b</td>\n",
              "      <td>1</td>\n",
              "      <td>3</td>\n",
              "      <td>4</td>\n",
              "      <td>6</td>\n",
              "      <td>0</td>\n",
              "      <td>1</td>\n",
              "      <td>0</td>\n",
              "      <td>1</td>\n",
              "      <td>313</td>\n",
              "      <td>...</td>\n",
              "      <td>1.0</td>\n",
              "      <td>0.0</td>\n",
              "      <td>1.0</td>\n",
              "      <td>0.0</td>\n",
              "      <td>0.0</td>\n",
              "      <td>0.0</td>\n",
              "      <td>0.0</td>\n",
              "      <td>0.0</td>\n",
              "      <td>0.0</td>\n",
              "      <td></td>\n",
              "    </tr>\n",
              "    <tr>\n",
              "      <th>4</th>\n",
              "      <td>b</td>\n",
              "      <td>1</td>\n",
              "      <td>3</td>\n",
              "      <td>3</td>\n",
              "      <td>22</td>\n",
              "      <td>0</td>\n",
              "      <td>0</td>\n",
              "      <td>0</td>\n",
              "      <td>0</td>\n",
              "      <td>313</td>\n",
              "      <td>...</td>\n",
              "      <td>1.0</td>\n",
              "      <td>1.0</td>\n",
              "      <td>0.0</td>\n",
              "      <td>0.0</td>\n",
              "      <td>0.0</td>\n",
              "      <td>0.0</td>\n",
              "      <td>0.0</td>\n",
              "      <td>1.0</td>\n",
              "      <td>0.0</td>\n",
              "      <td>Nonprofit</td>\n",
              "    </tr>\n",
              "  </tbody>\n",
              "</table>\n",
              "<p>5 rows × 65 columns</p>\n",
              "</div>"
            ]
          },
          "metadata": {}
        }
      ],
      "execution_count": 4,
      "metadata": {
        "collapsed": false
      }
    },
    {
      "cell_type": "markdown",
      "source": [
        "## 1. What test is appropriate for this problem? Does CLT apply?"
      ],
      "metadata": {}
    },
    {
      "cell_type": "code",
      "source": [
        "racial_data.call.value_counts()"
      ],
      "outputs": [
        {
          "output_type": "execute_result",
          "execution_count": 37,
          "data": {
            "text/plain": [
              "0    4478\n",
              "1     392\n",
              "Name: call, dtype: int64"
            ]
          },
          "metadata": {}
        }
      ],
      "execution_count": 37,
      "metadata": {
        "collapsed": false,
        "outputHidden": false,
        "inputHidden": false
      }
    },
    {
      "cell_type": "markdown",
      "source": [
        "After examining the variable concerning callbacks (X='call'), it is apparent that this is a categorical variable with two discrete values (0, 1), thus we are dealing with a binomial distribution and will **perform a binomial test**."
      ],
      "metadata": {}
    },
    {
      "cell_type": "markdown",
      "source": [
        "## 2. What are the null and alternate hypotheses?"
      ],
      "metadata": {}
    },
    {
      "cell_type": "markdown",
      "source": [
        "Let's first define \"white applicants\" as those with white-sounding names, and \"black applicants\" as those with black-sounding names.\n",
        "\n",
        "H0: callback ratio for black applicants = callback ratio for white applicants\n",
        "\nH1: callback ratio for black applicants != callback ratio for white applicants"
      ],
      "metadata": {}
    },
    {
      "cell_type": "markdown",
      "source": [
        "## 3. Compute margin of error, confidence interval, and p-value."
      ],
      "metadata": {}
    },
    {
      "cell_type": "code",
      "source": [
        "racial_data = data[['race', 'call']].copy()\n",
        "racial_data['call'] = racial_data.call.astype(int)\n",
        "\n",
        "b_data = racial_data.call[racial_data.race=='b']\n",
        "b_yes = b_data[b_data==1]\n",
        "b_no = b_data[b_data==0]\n",
        "\n",
        "w_data = racial_data.call[racial_data.race=='w']\n",
        "w_yes = w_data[w_data==1]\n",
        "w_no = w_data[w_data==0]"
      ],
      "outputs": [],
      "execution_count": 27,
      "metadata": {
        "collapsed": true
      }
    },
    {
      "cell_type": "code",
      "source": [
        "b_yes__prop = 1 - (b_no.count()/b_data.count())\n",
        "w_yes__prop = 1 - (w_no.count()/w_data.count())\n",
        "diff_prop = np.abs(b_yes__prop - w_yes__prop)\n",
        "\n",
        "b_yes__std = b_yes__prop * (1 - b_yes__prop)\n",
        "w_yes__std = w_yes__prop * (1 - w_yes__prop)\n",
        "dist_std = np.sqrt((b_yes__std/b_data.count()) + \n",
        "                   (w_yes__std/w_data.count()))"
      ],
      "outputs": [],
      "execution_count": 30,
      "metadata": {
        "collapsed": false,
        "outputHidden": false,
        "inputHidden": false
      }
    },
    {
      "cell_type": "code",
      "source": [
        "margin_error = dist_std * 2\n",
        "confidence_low = diff_prop - margin_error\n",
        "confidence_high = diff_prop + margin_error\n",
        "p_value = stats.norm.cdf(0, diff_prop, dist_std)\n",
        "\n",
        "print('margin of error:', margin_error)\n",
        "print('confidence interval: (', confidence_low, \n",
        "      ', ', confidence_high, ')', sep='')\n",
        "print('P-value:', p_value)"
      ],
      "outputs": [
        {
          "output_type": "stream",
          "name": "stdout",
          "text": [
            "margin of error: 0.0155667411734\n",
            "confidence interval: (0.0164661130361, 0.0475995953828)\n",
            "P-value: 1.93128260376e-05\n"
          ]
        }
      ],
      "execution_count": 35,
      "metadata": {
        "collapsed": false,
        "outputHidden": false,
        "inputHidden": false
      }
    },
    {
      "cell_type": "markdown",
      "source": [
        "## 4. Write a story describing the statistical significance in the context or the original problem."
      ],
      "metadata": {}
    },
    {
      "cell_type": "markdown",
      "source": [
        "## 5. Does your analysis mean that race/name is the most important factor in callback success? Why or why not? If not, how would you amend your analysis?"
      ],
      "metadata": {}
    },
    {
      "cell_type": "code",
      "source": [],
      "outputs": [],
      "execution_count": null,
      "metadata": {
        "collapsed": false,
        "outputHidden": false,
        "inputHidden": false
      }
    }
  ],
  "metadata": {
    "kernelspec": {
      "name": "python3",
      "language": "python",
      "display_name": "Python 3"
    },
    "language_info": {
      "name": "python",
      "version": "3.6.3",
      "mimetype": "text/x-python",
      "codemirror_mode": {
        "name": "ipython",
        "version": 3
      },
      "pygments_lexer": "ipython3",
      "nbconvert_exporter": "python",
      "file_extension": ".py"
    },
    "kernel_info": {
      "name": "python3"
    },
    "nteract": {
      "version": "0.6.2"
    }
  },
  "nbformat": 4,
  "nbformat_minor": 0
}