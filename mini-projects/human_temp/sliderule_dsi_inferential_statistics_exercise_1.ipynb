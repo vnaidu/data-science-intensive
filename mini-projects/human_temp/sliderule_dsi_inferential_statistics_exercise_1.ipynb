{
  "cells": [
    {
      "cell_type": "markdown",
      "source": [
        "# What is the True Normal Human Body Temperature? \n",
        "\n",
        "#### Background\n",
        "\nThe mean normal body temperature was held to be 37$^{\\circ}$C or 98.6$^{\\circ}$F for more than 120 years since it was first conceptualized and reported by Carl Wunderlich in a famous 1868 book. But, is this value statistically correct?"
      ],
      "metadata": {}
    },
    {
      "cell_type": "markdown",
      "source": [
        "<h3>Exercises</h3>\n",
        "\n",
        "<p>In this exercise, you will analyze a dataset of human body temperatures and employ the concepts of hypothesis testing, confidence intervals, and statistical significance.</p>\n",
        "\n",
        "<p>Answer the following questions <b>in this notebook below and submit to your Github account</b>.</p> \n",
        "\n",
        "<ol>\n",
        "<li>  Is the distribution of body temperatures normal? \n",
        "    <ul>\n",
        "    <li> Although this is not a requirement for CLT to hold (read CLT carefully), it gives us some peace of mind that the population may also be normally distributed if we assume that this sample is representative of the population.\n",
        "    </ul>\n",
        "<li>  Is the sample size large? Are the observations independent?\n",
        "    <ul>\n",
        "    <li> Remember that this is a condition for the CLT, and hence the statistical tests we are using, to apply.\n",
        "    </ul>\n",
        "<li>  Is the true population mean really 98.6 degrees F?\n",
        "    <ul>\n",
        "    <li> Would you use a one-sample or two-sample test? Why?\n",
        "    <li> In this situation, is it appropriate to use the $t$ or $z$ statistic? \n",
        "    <li> Now try using the other test. How is the result be different? Why?\n",
        "    </ul>\n",
        "<li>  Draw a small sample of size 10 from the data and repeat both tests. \n",
        "    <ul>\n",
        "    <li> Which one is the correct one to use? \n",
        "    <li> What do you notice? What does this tell you about the difference in application of the $t$ and $z$ statistic?\n",
        "    </ul>\n",
        "<li>  At what temperature should we consider someone's temperature to be \"abnormal\"?\n",
        "    <ul>\n",
        "    <li> Start by computing the margin of error and confidence interval.\n",
        "    </ul>\n",
        "<li>  Is there a significant difference between males and females in normal temperature?\n",
        "    <ul>\n",
        "    <li> What test did you use and why?\n",
        "    <li> Write a story with your conclusion in the context of the original problem.\n",
        "    </ul>\n",
        "</ol>\n",
        "\n",
        "You can include written notes in notebook cells using Markdown: \n",
        "   - In the control panel at the top, choose Cell > Cell Type > Markdown\n",
        "   - Markdown syntax: http://nestacms.com/docs/creating-content/markdown-cheat-sheet\n",
        "\n",
        "#### Resources\n",
        "\n",
        "+ Information and data sources: http://www.amstat.org/publications/jse/datasets/normtemp.txt, http://www.amstat.org/publications/jse/jse_data_archive.htm\n",
        "+ Markdown syntax: http://nestacms.com/docs/creating-content/markdown-cheat-sheet\n",
        "\n****"
      ],
      "metadata": {}
    },
    {
      "cell_type": "code",
      "source": [
        "import pandas as pd\n",
        "import numpy as np\n",
        "\n",
        "from scipy import stats\n",
        "from scipy.stats.mstats import normaltest\n",
        "\n",
        "import matplotlib.pyplot as plt\n",
        "import seaborn as sns\n",
        "\nsns.set()"
      ],
      "outputs": [],
      "execution_count": 24,
      "metadata": {
        "collapsed": true
      }
    },
    {
      "cell_type": "code",
      "source": [
        "df = pd.read_csv('data/human_body_temperature.csv')"
      ],
      "outputs": [],
      "execution_count": 11,
      "metadata": {
        "collapsed": false,
        "outputHidden": false,
        "inputHidden": false
      }
    },
    {
      "cell_type": "code",
      "source": [
        "normaltest(df.temperature).pvalue > 0.01"
      ],
      "outputs": [
        {
          "output_type": "execute_result",
          "execution_count": 104,
          "data": {
            "text/plain": [
              "True"
            ]
          },
          "metadata": {}
        }
      ],
      "execution_count": 104,
      "metadata": {}
    },
    {
      "cell_type": "code",
      "source": [
        "sns.distplot(df.temperature)\n",
        "plt.show()"
      ],
      "outputs": [
        {
          "output_type": "display_data",
          "data": {
            "text/plain": [
              "<matplotlib.figure.Figure at 0x206bd9d01d0>"
            ],
            "image/png": "[encoded data removed]"
          },
          "metadata": {}
        }
      ],
      "execution_count": 103,
      "metadata": {
        "collapsed": false,
        "outputHidden": false,
        "inputHidden": false
      }
    },
    {
      "cell_type": "code",
      "source": [
        "print('Observation Count (#):', df.temperature.count(), '\\n')\n",
        "display(df.gender.value_counts())"
      ],
      "outputs": [
        {
          "output_type": "stream",
          "name": "stdout",
          "text": [
            "Observation Count (#): 130 \n",
            "\n"
          ]
        },
        {
          "output_type": "display_data",
          "data": {
            "text/plain": [
              "M    65\n",
              "F    65\n",
              "Name: gender, dtype: int64"
            ]
          },
          "metadata": {}
        }
      ],
      "execution_count": 118,
      "metadata": {
        "collapsed": false,
        "outputHidden": false,
        "inputHidden": false
      }
    },
    {
      "cell_type": "code",
      "source": [
        "#Todo: Are the observations independent?"
      ],
      "outputs": [],
      "execution_count": null,
      "metadata": {
        "collapsed": false,
        "outputHidden": false,
        "inputHidden": false
      }
    },
    {
      "cell_type": "code",
      "source": [
        "sample_size = df.temperature.count()\n",
        "sample_mean = df.temperature.mean()\n",
        "sample_std = df.temperature.std()\n",
        "std_error = sample_std / np.sqrt(sample_size)\n",
        "\n",
        "alpha = 0.005\n",
        "pop_test_mean = 98.6\n",
        "p_value = stats.norm.cdf(sample_mean, pop_test_mean, std_error)\n",
        "\n",
        "print('P-value:', p_value)\n",
        "print('alpha:', alpha)\n",
        "\n",
        "if p_value > alpha:\n",
        "    outcome = 'fail to reject the null hypothesis.'\n",
        "    result = 'is greater than'\n",
        "else:\n",
        "    outcome = 'can reject the null hypothesis.'\n",
        "    result = 'is less than'\n",
        "#test_outcome = 'Since P-value (' + p_value + ') is '\n",
        "print(' ', sep='')\n",
        "print('Test Outcome:', '\\n',\n",
        "      'Since p_value ', result, \n",
        "      ' our significance level (alpha=', \n",
        "      alpha, '), \\n', 'we ', outcome, sep='')"
      ],
      "outputs": [
        {
          "output_type": "stream",
          "name": "stdout",
          "text": [
            "P-value: 2.45107850706e-08\n",
            "alpha: 0.005\n",
            " \n",
            "Test Outcome:\n",
            "Since p_value is less than our significance level (alpha=0.005), \n",
            "we can reject the null hypothesis.\n"
          ]
        }
      ],
      "execution_count": 55,
      "metadata": {
        "collapsed": false,
        "outputHidden": false,
        "inputHidden": false
      }
    },
    {
      "cell_type": "code",
      "source": [
        "# Todo: Clean up the answer.\n",
        "#\n",
        "# Question: Is it appropriate to use the t or z statistic?\n",
        "#   Answer: z statistic since n_samples > 30"
      ],
      "outputs": [],
      "execution_count": 100,
      "metadata": {
        "collapsed": false,
        "outputHidden": false,
        "inputHidden": false
      }
    },
    {
      "cell_type": "code",
      "source": [
        "# Todo: Answer the question by performing a t test.\n",
        "#\n",
        "# Question: Now try using the other test. \n",
        "# --------- How is the result be different? Why?"
      ],
      "outputs": [],
      "execution_count": null,
      "metadata": {
        "collapsed": false,
        "outputHidden": false,
        "inputHidden": false
      }
    },
    {
      "cell_type": "code",
      "source": [
        "# Todo: Draw a small sample of size 10 from the data and repeat both tests.\n",
        "# Todo: Answer the following questions.\n",
        "# Which one is the correct one to use?\n",
        "# What do you notice? \n",
        "# What does this tell you about the difference in application of the and  statistic?"
      ],
      "outputs": [],
      "execution_count": null,
      "metadata": {
        "collapsed": false,
        "outputHidden": false,
        "inputHidden": false
      }
    },
    {
      "cell_type": "code",
      "source": [
        "m_temps = df[df.gender=='M']['temperature']\n",
        "f_temps = df[df.gender=='F']['temperature']\n",
        "\n",
        "diff_means = np.abs(m_temps.mean() - f_temps.mean())\n",
        "std_error = np.sqrt((m_temps.var() / m_temps.count()) + \n",
        "                    (f_temps.var() / f_temps.count()))\n",
        "\n",
        "alpha = 0.005\n",
        "p_value = stats.norm.cdf(0, diff_means, std_error) * 2\n",
        "\n",
        "print('P-value:', p_value)\n",
        "print('alpha:', alpha)\n",
        "\n",
        "if p_value > alpha:\n",
        "    outcome = 'fail to reject the null hypothesis.'\n",
        "    result = 'is greater than'\n",
        "else:\n",
        "    outcome = 'can reject the null hypothesis.'\n",
        "    result = 'is less than'\n",
        "#test_outcome = 'Since P-value (' + p_value + ') is '\n",
        "print(' ', sep='')\n",
        "print('Test Outcome:', '\\n',\n",
        "      'Since p_value ', result, \n",
        "      ' our significance level (alpha=', \n",
        "      alpha, '), \\n', 'we ', outcome, sep='')"
      ],
      "outputs": [
        {
          "output_type": "stream",
          "name": "stdout",
          "text": [
            "P-value: 0.0222873607607\n",
            "alpha: 0.005\n",
            " \n",
            "Test Outcome:\n",
            "Since p_value is greater than our significance level (alpha=0.005), \n",
            "we fail to reject the null hypothesis.\n"
          ]
        }
      ],
      "execution_count": 101,
      "metadata": {
        "collapsed": false,
        "outputHidden": false,
        "inputHidden": false
      }
    },
    {
      "cell_type": "code",
      "source": [],
      "outputs": [],
      "execution_count": null,
      "metadata": {
        "collapsed": false,
        "outputHidden": false,
        "inputHidden": false
      }
    }
  ],
  "metadata": {
    "kernelspec": {
      "name": "python3",
      "language": "python",
      "display_name": "Python 3"
    },
    "language_info": {
      "name": "python",
      "version": "3.6.3",
      "mimetype": "text/x-python",
      "codemirror_mode": {
        "name": "ipython",
        "version": 3
      },
      "pygments_lexer": "ipython3",
      "nbconvert_exporter": "python",
      "file_extension": ".py"
    },
    "kernel_info": {
      "name": "python3"
    },
    "nteract": {
      "version": "0.6.2"
    }
  },
  "nbformat": 4,
  "nbformat_minor": 1
}